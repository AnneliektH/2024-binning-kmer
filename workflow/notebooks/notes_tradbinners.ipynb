{
 "cells": [
  {
   "cell_type": "markdown",
   "metadata": {},
   "source": [
    "## Compare VAMB as a binner to other bin outputs\n",
    "- Compare results from VAMB to the results when inputting mgmanysearch results\n",
    "- Take set of 10 SRAs, symlink, and bin (from same study)\n",
    "- Compare those bins to original number of bins. Amount, quality. \n",
    "- Then look at input files for VAMB, see if we can create with smash\n",
    "\n",
    "\n",
    "### To run vamb\n",
    "- make bowtie2 db from all contigs\n",
    "- map to all contigs\n",
    "- sam --> bam\n",
    "- feed info to vamb\n",
    "\n",
    "### Both VAMB and metabat2 use a depth txt file\n",
    "this file is created by the jgi_summarize_bam_contig_depths command, \n"
   ]
  },
  {
   "cell_type": "code",
   "execution_count": null,
   "metadata": {
    "vscode": {
     "languageId": "plaintext"
    }
   },
   "outputs": [],
   "source": [
    "# Contig coverage depth quantification with MetaBAT 2, use no noIntraDepthVariance\n",
    "\n",
    "mamba activate metabat2\n",
    "jgi_summarize_bam_contig_depths --noIntraDepthVariance --outputDepth cov_depth_novar.txt coassembly_alignments/*.bam\n",
    "\n",
    "# with variance\n",
    "jgi_summarize_bam_contig_depths --outputDepth cov_depth_var.txt coassembly_alignments/*.bam\n"
   ]
  },
  {
   "cell_type": "code",
   "execution_count": null,
   "metadata": {
    "vscode": {
     "languageId": "plaintext"
    }
   },
   "outputs": [],
   "source": [
    "# creating bins with either vamb or metabat:\n",
    "# METABAT\n",
    "metabat -i contigs.fa \\\n",
    "-a metabat_depth.txt \n",
    "-o metabat_bins -t 20\n",
    "\n",
    "\n",
    "VAMB (min size of 50kb as a bin)\n",
    "vamb --outdir ./vamb_bins \\\n",
    "--fasta contigs.fa \\\n",
    "--jgi ./cov_depth.txt \\\n",
    "--minfasta 50000 "
   ]
  },
  {
   "cell_type": "code",
   "execution_count": null,
   "metadata": {
    "vscode": {
     "languageId": "plaintext"
    }
   },
   "outputs": [],
   "source": [
    "# run with intravariance var\n",
    "\n",
    "srun --account=ctbrowngrp -p med2 -J metabat2 -t 10:00:00 -c 8 --mem=40gb --pty bash\n",
    "metabat2 -m 1500 -i bowtie2/contigs.fa -o metabat_bins --a metabat_depth.txt -t 8\n",
    " \n",
    "srun --account=ctbrowngrp -p med2 -J vamb -t 10:00:00 -c 1 --mem=40gb --pty bash\n",
    "vamb --outdir ./vamb_bins \\\n",
    "--fasta bowtie2/contigs.fa \\\n",
    "--jgi ./metabat_depth.txt \\\n",
    "--minfasta 50000"
   ]
  },
  {
   "cell_type": "code",
   "execution_count": null,
   "metadata": {
    "vscode": {
     "languageId": "plaintext"
    }
   },
   "outputs": [],
   "source": [
    "# symlink the 11 SRAs\n",
    "ln -s ../../2023-swine-sra/atlas/atlas_ERR113518* . \n",
    "ln -s ../../2023-swine-sra/atlas/atlas_ERR113517* . "
   ]
  },
  {
   "cell_type": "code",
   "execution_count": null,
   "metadata": {
    "vscode": {
     "languageId": "powershell"
    }
   },
   "outputs": [],
   "source": [
    "# symlink the reads\n",
    "ln -s ../../swine_SRA/atlas_ERR*/ERR*/sequence_quality_control/ERR*_QC_R*.gz .\n",
    "\n",
    "# srun for threads\n",
    "srun --account=ctbrowngrp -p med2 -J fmg -t 10:00:00 -c 10 --mem40gb --pty bash\n",
    "\n",
    "# concat all contigs (n=349,706)\n",
    "cat ../swine_SRA/atlas_ERR11351*/ERR*/ERR*.fasta > contigs.fa\n",
    "\n",
    "# create bowtiedb\n",
    "mamba activate bowtie2\n",
    "bowtie2-build contigs.fa contigs_db -p 10\n",
    "\n",
    "# Mapping\n",
    "cd reads\n",
    "\n",
    "for f in *_R1.*\n",
    "do\n",
    "bowtie2 -p 10 -x ../contigs_db \\\n",
    "-1 $f \\\n",
    "-2 ${f%_R1*}_R2.fastq.gz \\\n",
    "-S ../samfiles/${f%_QC*}.sam \\\n",
    "--sensitive\n",
    "\n",
    "# Compression\n",
    "mamba activate samtools\n",
    "for f in *.sam \n",
    "do\n",
    "samtools view -@ 10 -F 4 -bS $f | samtools sort > ${f%.sam*}.bam\n",
    "done\n",
    "\n",
    "samtools index *.bam"
   ]
  },
  {
   "cell_type": "code",
   "execution_count": null,
   "metadata": {
    "vscode": {
     "languageId": "plaintext"
    }
   },
   "outputs": [],
   "source": [
    "# srun for threads\n",
    "srun --account=ctbrowngrp -p med2 -J samtool -t 2:00:00 -c 10 --mem 40gb --pty bash\n",
    "srun --account=ctbrowngrp -p med2 -J fmg_bin -t 36:00:00 -c 24 --mem 50gb --pty bash"
   ]
  },
  {
   "cell_type": "code",
   "execution_count": null,
   "metadata": {
    "vscode": {
     "languageId": "plaintext"
    }
   },
   "outputs": [],
   "source": [
    "# Use checkm2 to check the created bins\n",
    "srun --account=ctbrowngrp -p med2 -J checkm2 -t 2:00:00 -c 10 --mem 40gb --pty bash\n",
    "\n",
    "mamba activate checkm2\n",
    "checkm2 predict --threads 10 --input metabat_bins -x .fa --output-directory checkm_results/metabat\n",
    "checkm2 predict --threads 10 --input vamb_bins/bins --output-directory checkm_results/vamb"
   ]
  }
 ],
 "metadata": {
  "language_info": {
   "name": "python"
  }
 },
 "nbformat": 4,
 "nbformat_minor": 2
}
