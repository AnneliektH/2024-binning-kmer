{
 "cells": [
  {
   "cell_type": "markdown",
   "metadata": {},
   "source": [
    "# What are exact commands ran for:\n",
    "a) sketching contigs\n",
    "b) sketching reads\n",
    "c) running manysearch\n",
    "d) how to run manysketch \n",
    "\n",
    "\n",
    "Why does it not work - what is wrong with the way I sketch reads? \n",
    "Because large db with small fake reads file works - small db with big reads file does not work"
   ]
  },
  {
   "cell_type": "code",
   "execution_count": null,
   "metadata": {
    "vscode": {
     "languageId": "plaintext"
    }
   },
   "outputs": [],
   "source": [
    "# get manysearch to work...\n",
    "# first on small subset of reads (WORKS)\n",
    "# make small set (get the first 100 reads)\n",
    "gunzip -c /group/ctbrowngrp2/scratch/annie/2023-swine-sra/atlas/atlas_ERR1135178/ERR1135178/sequence_quality_control/ERR1135178_QC_R2.fastq.gz | head -n 1000 | gzip > ERR1135178_QC_R2.subset.fq.gz\n",
    "gunzip -c /group/ctbrowngrp2/scratch/annie/2023-swine-sra/atlas/atlas_ERR1135178/ERR1135178/sequence_quality_control/ERR1135178_QC_R1.fastq.gz | head -n 1000 | gzip > ERR1135178_QC_R1.subset.fq.gz\n",
    "\n",
    "# create a sig file\n",
    "sourmash sketch dna \\\n",
    "-p k=21,k=31,k=51,abund,scaled=100 \\\n",
    "ERR1135178_QC_R1.subset.fq.gz ERR1135178_QC_R2.subset.fq.gz \\\n",
    "--name ERR1135178 -o ../sketch_reads/ERR1135178_QC.subset.zip\n",
    "\n",
    "# manysearch\n",
    "sourmash scripts manysearch \\\n",
    "../sourmash_sketches/sketch_reads/ERR1135178_QC.subset.zip \\\n",
    "../sourmash_sketches/ERR11351.zip \\\n",
    "-k 21 --scaled 100 -o ERR1135178_QC.subset.csv -c 1\n",
    "\n",
    "#Now full read set, sketch and manysearch the exact same way:\n",
    "sourmash sketch dna \\\n",
    "-p k=21,k=31,k=51,abund,scaled=100 \\\n",
    "ERR1135178_QC_R1.fastq.gz ERR1135178_QC_R2.fastq.gz \\\n",
    "--name ERR1135178 -o ../sketch_reads/ERR1135178.zip\n",
    "\n",
    "sourmash scripts manysearch \\\n",
    "../sourmash_sketches/sketch_reads/ERR1135178.zip \\\n",
    "../sourmash_sketches/ERR11351.zip \\\n",
    "-k 21 --scaled 100 -o ERR1135178.csv -c 100\n",
    "\n"
   ]
  },
  {
   "cell_type": "code",
   "execution_count": null,
   "metadata": {
    "vscode": {
     "languageId": "plaintext"
    }
   },
   "outputs": [],
   "source": [
    "# sketching the contigs (this works, as we get results when runnign with small reads file):\n",
    "sourmash sketch dna -p k=21,scaled=100,k=31,scaled=100,k=51,scaled=100 \\\n",
    "--singleton ERR11351.fasta -o ERR11351.zip"
   ]
  },
  {
   "cell_type": "code",
   "execution_count": null,
   "metadata": {
    "vscode": {
     "languageId": "plaintext"
    }
   },
   "outputs": [],
   "source": [
    "# sketching reads (does not work, or i do something wrong sketching)\n",
    "# sketched both read files at the same time\n",
    "# difference between this and test set of reads: only 1 ksize, no --name, only 1 read instead of a pair\n",
    "# its not the name\n",
    "\n",
    "sourmash sketch dna \\\n",
    "-p k=31,k=21,abund,k=51,scaled=100 \\\n",
    "ERR1135178_QC_R2.subset.fq.gz \\\n",
    "--name ERR1135178 -o ERR1135178_QC_R2.subset.zip\n",
    "\n",
    "# how did i sketch for the test data:\n",
    "sourmash sketch dna -p \\\n",
    "abund,k=21,scaled=100 \\\n",
    "ERR11351_R1.fq.gz \\\n",
    "-o ERR11351_R1.zip\n",
    "\n",
    "# make small set\n",
    "gunzip -c /group/ctbrowngrp2/scratch/annie/2023-swine-sra/atlas/atlas_ERR1135178/ERR1135178/sequence_quality_control/ERR1135178_QC_R2.fastq.gz | head -n 100 | gzip > ERR1135178_QC_R2.subset.fq.gz"
   ]
  },
  {
   "cell_type": "code",
   "execution_count": null,
   "metadata": {
    "vscode": {
     "languageId": "plaintext"
    }
   },
   "outputs": [],
   "source": [
    "# running manysearch: output file is empty\n",
    "\n",
    "sourmash scripts manysearch \\\n",
    "../sourmash_sketches/sketch_reads/ERR1135178_QC_R2.subset.zip \\\n",
    "../sourmash_sketches/ERR11351.zip \\\n",
    "-k 21 --scaled 100 -o ERR1135186_r1.csv -c 100"
   ]
  },
  {
   "cell_type": "code",
   "execution_count": null,
   "metadata": {
    "vscode": {
     "languageId": "plaintext"
    }
   },
   "outputs": [],
   "source": [
    "# How to run manysketch??\n",
    "# https://github.com/sourmash-bio/sourmash_plugin_branchwater/tree/main/doc#running-manysketch\n",
    "# one file for all the sketches?\n",
    "\n",
    "echo name,read1,read2 > manysketch.csv\n",
    "for i in *_R1.fastq.gz\n",
    "do\n",
    "echo ${i%_QC*},$i,${i%_R1*}_R2.fastq.gz\n",
    "done >> manysketch.csv\n",
    "\n",
    "sourmash scripts manysketch manysketch.csv \\\n",
    "-p k=21,k=31,k=51,scaled=100,abund -c 100 \\\n",
    "-o ../all_reads.resketch.zip"
   ]
  },
  {
   "cell_type": "code",
   "execution_count": null,
   "metadata": {
    "vscode": {
     "languageId": "plaintext"
    }
   },
   "outputs": [],
   "source": [
    "sourmash scripts manysearch \\\n",
    "../sourmash_sketches/all_reads.resketch.zip \\\n",
    "../sourmash_sketches/ERR11351.zip \\\n",
    "-k 21 --scaled 100 -o all.csv -c 100\n",
    "\n",
    "\n",
    "sourmash scripts manysearch \\\n",
    "../sourmash_sketches/all_reads.resketch.zip \\\n",
    "../sourmash_sketches/ERR1135185_42.zip \\\n",
    "-k 21 --scaled 100 -o all_test_42.csv -c 100\n",
    "\n",
    "ERR1135178_5527\n",
    "ERR1135185_42"
   ]
  },
  {
   "cell_type": "code",
   "execution_count": null,
   "metadata": {
    "vscode": {
     "languageId": "plaintext"
    }
   },
   "outputs": [],
   "source": [
    "sourmash scripts mgmanysearch \\\n",
    "--against ../sourmash_sketches/sketch_reads/ERR1135178_QC_R2.subset.zip \\\n",
    "--queries ../sourmash_sketches/ERR11351.zip \\\n",
    "-k 21 --scaled 100 -o ERR1135186_r1.csv -c 100"
   ]
  }
 ],
 "metadata": {
  "language_info": {
   "name": "python"
  }
 },
 "nbformat": 4,
 "nbformat_minor": 2
}
