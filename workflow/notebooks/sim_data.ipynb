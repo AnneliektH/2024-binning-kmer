{
 "cells": [
  {
   "cell_type": "markdown",
   "metadata": {},
   "source": [
    "# simulating a dataset with 2 contigs and 10 reads each\n",
    "- Doing this to compare mgmanysearch and mgsearch\n",
    "- what columns are needed, what is the output\n",
    "\n",
    "\n",
    "Normally i'd do fastmultigather, then use fmg output as a picklist for mgmanysearch. "
   ]
  },
  {
   "cell_type": "code",
   "execution_count": null,
   "metadata": {
    "vscode": {
     "languageId": "plaintext"
    }
   },
   "outputs": [],
   "source": [
    "# in: /group/ctbrowngrp2/scratch/annie/2024-binning-kmer/results/test_mgsearch\n",
    "# commands run:\n",
    "\n",
    "# get a subset of contigs\n",
    "mamba activate bbmap\n",
    "reformat.sh in=../sourmash_sketches/split_fa/ERR11351_0.fa out=ERR11351_3contig.fa reads=10\n",
    "\n",
    "# simulate 20 reads (fw and rev)\n",
    "randomreads.sh ref=ERR11351_3contig.fa \\\n",
    "out1=ERR11351_R1.fq.gz out2=ERR11351_R2.fq.gz reads=20 simplenames=t minlength=150 \\\n",
    "maxlength=150 paired=t midq=30 \n",
    "\n",
    "# sketch the files\n",
    "mamba activate branchwater\n",
    "sourmash sketch dna -p \\\n",
    "k=21,scaled=100 \\\n",
    "ERR11351_3contig.fa --singleton \\\n",
    "-o ERR11351_3contig.zip\n",
    "\n",
    "# abundance sketch reads\n",
    "sourmash sketch dna -p \\\n",
    "abund,k=21,scaled=100 \\\n",
    "ERR11351_R1.fq.gz \\\n",
    "-o ERR11351_R1.zip\n",
    "\n",
    "# mgmanysearch\n",
    "sourmash scripts mgmanysearch --queries ERR11351_3contig.zip \\\n",
    "--against ERR11351_R1.zip -k 21 --scaled 100 -o mgmanysearch.abund.csv\n",
    "\n",
    "# manysearch\n",
    "sourmash scripts manysearch ERR11351_3contig.zip \\\n",
    "ERR11351_R1.zip -k 21 --scaled 100 -o many.abund.csv"
   ]
  }
 ],
 "metadata": {
  "language_info": {
   "name": "python"
  }
 },
 "nbformat": 4,
 "nbformat_minor": 2
}
