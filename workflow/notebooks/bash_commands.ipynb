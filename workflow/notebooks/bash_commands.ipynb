{
 "cells": [
  {
   "cell_type": "code",
   "execution_count": null,
   "metadata": {},
   "outputs": [],
   "source": [
    "# srun\n",
    "srun --account=ctbrowngrp -p bmm -J checm2 -t 4:00:00 -c 16 --mem=50gb --pty bash"
   ]
  },
  {
   "cell_type": "code",
   "execution_count": null,
   "metadata": {},
   "outputs": [],
   "source": [
    "# snakemake\n",
    "mamba activate snakemake\n",
    "snakemake --use-conda --resources mem_mb=25000 --rerun-triggers mtime -c 16 --rerun-incomplete -k "
   ]
  },
  {
   "cell_type": "code",
   "execution_count": null,
   "metadata": {},
   "outputs": [],
   "source": [
    "# sketch contigs and readsfile \n",
    "# Contigs no abundance, read file with abundance\n",
    "mamba activate sourmash \n",
    "sourmash sketch dna --singleton \\\n",
    "ERR3211994_contigs.fasta -p k=15,scaled=100  \\\n",
    "-o ../../sourmash_sig/ERR3211994.contigs.single.k15.sig.gz\n",
    "\n",
    "sourmash sketch dna ERR3211994_clean_R1.fastq.gz -p abund,k=21,scaled=100 \\\n",
    "-o ../../../sourmash_sig/ERR3211994.R1.abund.k15.reads.sig.gz\n",
    "sourmash sketch dna ERR3211994_clean_R2.fastq.gz -p abund,k=15,scaled=100 \\\n",
    "-o ../../../sourmash_sig/ERR3211994.R2.abund.k15.reads.sig.gz"
   ]
  },
  {
   "cell_type": "code",
   "execution_count": null,
   "metadata": {},
   "outputs": [],
   "source": [
    "# seqtk for cutting sequences from multifasta\n",
    "mamba activate seqtk\n",
    "seqtk subseq test.fa test.txt\n",
    "\n",
    "for f in *.txt\n",
    "do\n",
    "seqtk subseq ../atlas_ERR3211994/ERR3211994/ERR3211994_contigs.fasta $f > $f.fa\n",
    "done"
   ]
  },
  {
   "cell_type": "code",
   "execution_count": null,
   "metadata": {},
   "outputs": [],
   "source": [
    "# run checkm2 to check the 'bins'\n",
    "srun --account=ctbrowngrp -p bmm -J checm2 -t 4:00:00 -c 16 --mem=50gb --pty bash\n",
    "mamba activate checkm2\n",
    "checkm2 predict --input ./fa_files/ --output-directory checkm_out -x fa --threads 16"
   ]
  },
  {
   "cell_type": "markdown",
   "metadata": {},
   "source": [
    "metabat depth file:\n",
    "\n",
    "\n",
    "A file having mean and variance of base coverage depth (tab delimited; the first column should be contig names, and the first row will be considered as the header and be skipped)\n",
    "So contiglength, mean depth, depth variance."
   ]
  },
  {
   "cell_type": "code",
   "execution_count": null,
   "metadata": {},
   "outputs": [],
   "source": [
    "# make the metabath depth file so we see what it needs to look like\n",
    "mamba activate metabat\n",
    "jgi_summarize_bam_contig_depths --percentIdentity 97 \\\n",
    "--outputDepth ../depth.metabat.txt ./ERR3211994/sequence_alignment/ERR3211994.bam "
   ]
  },
  {
   "cell_type": "code",
   "execution_count": null,
   "metadata": {},
   "outputs": [],
   "source": [
    "# sourmash mgsearch, one metag per file, only flat sigs \n",
    "# change the source code to do the ksize and scale i want\n",
    "in /home/amhorst/mambaforge/envs/sourmash/lib/python3.10/site-packages/sourmash_plugin_containment_search.py\n",
    "sourmash scripts mgsearch ERR3211994_0.k15.sig ERR3211994.abund.k15.reads.sig.gz \\\n",
    "-k 15 --scaled 100\n",
    "\n",
    "sourmash scripts mgmanysearch --queries ERR3211994.contigs.single.k15.sig.gz \\\n",
    "--against ERR3211994.R1.abund.k15.reads.sig.gz -k 15 --scaled 100 -o mgmanysearch.abund.csv\n",
    "\n",
    "\n",
    "# try for one bin\n",
    "sourmash scripts mgmanysearch --queries bin_3.sing.k15.sig.gz --against ERR3211994.R1.abund.k15.reads.sig.gz -k 15 --scaled 100 -o bin3.abund.csv"
   ]
  },
  {
   "cell_type": "code",
   "execution_count": null,
   "metadata": {},
   "outputs": [],
   "source": [
    "for f in E*\n",
    "do\n",
    "echo $f\n",
    "echo $f/quality_report.tsv\n",
    "cp $f/quality_report.tsv ./qual/metabat2_quality_report_$f.tsv\n",
    "done\n"
   ]
  }
 ],
 "metadata": {
  "language_info": {
   "name": "python"
  }
 },
 "nbformat": 4,
 "nbformat_minor": 2
}
